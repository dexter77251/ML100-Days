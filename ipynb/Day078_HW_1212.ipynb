{
 "cells": [
  {
   "cell_type": "markdown",
   "metadata": {},
   "source": [
    "## Work\n",
    "1. 請嘗試將 preproc_x 替換成以每筆資料的 min/max 進行標準化至 -1 ~ 1 間，再進行訓練\n",
    "2. 請嘗試將 mlp 疊更深 (e.g 5~10 層)，進行訓練後觀察 learning curve 的走勢\n",
    "3. (optional) 請改用 GPU 進行訓練 (如果你有 GPU 的話)，比較使用 CPU 與 GPU 的訓練速度"
   ]
  },
  {
   "cell_type": "code",
   "execution_count": 1,
   "metadata": {},
   "outputs": [],
   "source": [
    "## \n",
    "\"\"\"\n",
    "Your code here (optional)\n",
    "確認硬體資源\n",
    "\"\"\"\n"
   ]
  },
  {
   "cell_type": "code",
   "execution_count": 1,
   "metadata": {},
   "outputs": [
    {
     "name": "stderr",
     "output_type": "stream",
     "text": [
      "Using TensorFlow backend.\n"
     ]
    }
   ],
   "source": [
    "import os\n",
    "import keras\n",
    "\n",
    "# 請嘗試設定 GPU：os.environ\n",
    "os.environ[\"CUDA_VISIBLE_DEVICES\"] = \"\""
   ]
  },
  {
   "cell_type": "code",
   "execution_count": 2,
   "metadata": {},
   "outputs": [],
   "source": [
    "train, test = keras.datasets.cifar10.load_data()"
   ]
  },
  {
   "cell_type": "code",
   "execution_count": 3,
   "metadata": {},
   "outputs": [],
   "source": [
    "## 資料前處理\n",
    "\"\"\"\n",
    "Your code here\n",
    "\"\"\"\n",
    "def preproc_x(x, flatten=True):\n",
    "    original_shape = x.shape\n",
    "    x = x.reshape((len(x), -1))\n",
    "    x = (x - x.min(axis=0)) / (x.max(axis=0) - x.min(axis=0)) * 2 - 1\n",
    "    if not flatten:\n",
    "        x = x.reshape(original_shape)\n",
    "    return x\n",
    "\n",
    "def preproc_y(y, num_classes=10):\n",
    "    if y.shape[-1] == 1:\n",
    "        y = keras.utils.to_categorical(y, num_classes)\n",
    "    return y"
   ]
  },
  {
   "cell_type": "code",
   "execution_count": 4,
   "metadata": {},
   "outputs": [],
   "source": [
    "x_train, y_train = train\n",
    "x_test, y_test = test\n",
    "\n",
    "# Preproc the inputs\n",
    "x_train = preproc_x(x_train)\n",
    "x_test = preproc_x(x_test)\n",
    "\n",
    "# Preprc the outputs\n",
    "y_train = preproc_y(y_train)\n",
    "y_test = preproc_y(y_test)"
   ]
  },
  {
   "cell_type": "code",
   "execution_count": 5,
   "metadata": {},
   "outputs": [
    {
     "name": "stdout",
     "output_type": "stream",
     "text": [
      "Model: \"model_1\"\n",
      "_________________________________________________________________\n",
      "Layer (type)                 Output Shape              Param #   \n",
      "=================================================================\n",
      "input_1 (InputLayer)         (None, 3072)              0         \n",
      "_________________________________________________________________\n",
      "hidden_layer1 (Dense)        (None, 512)               1573376   \n",
      "_________________________________________________________________\n",
      "hidden_layer2 (Dense)        (None, 256)               131328    \n",
      "_________________________________________________________________\n",
      "hidden_layer3 (Dense)        (None, 128)               32896     \n",
      "_________________________________________________________________\n",
      "hidden_layer4 (Dense)        (None, 64)                8256      \n",
      "_________________________________________________________________\n",
      "hidden_layer5 (Dense)        (None, 32)                2080      \n",
      "_________________________________________________________________\n",
      "output (Dense)               (None, 10)                330       \n",
      "=================================================================\n",
      "Total params: 1,748,266\n",
      "Trainable params: 1,748,266\n",
      "Non-trainable params: 0\n",
      "_________________________________________________________________\n"
     ]
    }
   ],
   "source": [
    "\"\"\"Code Here\n",
    "建立你的神經網路\n",
    "\"\"\"\n",
    "def build_mlp(input_shape, output_units=10, num_neurons=[512, 256, 128, 64, 32]):\n",
    "    input_layer = keras.layers.Input(input_shape)\n",
    "    \n",
    "    for i, n_units in enumerate(num_neurons):\n",
    "        if i == 0:\n",
    "            x = keras.layers.Dense(units=n_units, activation=\"relu\", name=\"hidden_layer\"+str(i+1))(input_layer)\n",
    "        else:\n",
    "            x = keras.layers.Dense(units=n_units, activation=\"relu\", name=\"hidden_layer\"+str(i+1))(x)\n",
    "    \n",
    "    out = keras.layers.Dense(units=output_units, activation=\"softmax\", name=\"output\")(x)\n",
    "    \n",
    "    model = keras.models.Model(inputs=[input_layer], outputs=[out])\n",
    "    return model\n",
    "\n",
    "model = build_mlp((x_train.shape[1],))\n",
    "model.summary()"
   ]
  },
  {
   "cell_type": "code",
   "execution_count": 6,
   "metadata": {},
   "outputs": [],
   "source": [
    "## 超參數設定\n",
    "LEARNING_RATE = 0.001\n",
    "EPOCHS = 100\n",
    "BATCH_SIZE = 256"
   ]
  },
  {
   "cell_type": "code",
   "execution_count": 7,
   "metadata": {},
   "outputs": [],
   "source": [
    "optimizer = keras.optimizers.Adam(lr=LEARNING_RATE)\n",
    "model.compile(loss=\"categorical_crossentropy\", metrics=[\"accuracy\"], optimizer=optimizer)"
   ]
  },
  {
   "cell_type": "code",
   "execution_count": 8,
   "metadata": {},
   "outputs": [
    {
     "name": "stdout",
     "output_type": "stream",
     "text": [
      "Train on 50000 samples, validate on 10000 samples\n",
      "Epoch 1/100\n",
      "50000/50000 [==============================] - 11s 229us/step - loss: 1.7256 - accuracy: 0.3845 - val_loss: 1.5497 - val_accuracy: 0.4530\n",
      "Epoch 2/100\n",
      "50000/50000 [==============================] - 7s 137us/step - loss: 1.4897 - accuracy: 0.4733 - val_loss: 1.4599 - val_accuracy: 0.4873\n",
      "Epoch 3/100\n",
      "50000/50000 [==============================] - 11s 220us/step - loss: 1.3721 - accuracy: 0.5165 - val_loss: 1.4046 - val_accuracy: 0.5102\n",
      "Epoch 4/100\n",
      "50000/50000 [==============================] - 11s 230us/step - loss: 1.2743 - accuracy: 0.5518 - val_loss: 1.3987 - val_accuracy: 0.5160\n",
      "Epoch 5/100\n",
      "50000/50000 [==============================] - 7s 132us/step - loss: 1.1915 - accuracy: 0.5782 - val_loss: 1.3673 - val_accuracy: 0.5292\n",
      "Epoch 6/100\n",
      "50000/50000 [==============================] - 12s 231us/step - loss: 1.1129 - accuracy: 0.6091 - val_loss: 1.3867 - val_accuracy: 0.5251\n",
      "Epoch 7/100\n",
      "50000/50000 [==============================] - 7s 138us/step - loss: 1.0381 - accuracy: 0.6323 - val_loss: 1.3951 - val_accuracy: 0.5245\n",
      "Epoch 8/100\n",
      "50000/50000 [==============================] - 11s 225us/step - loss: 0.9696 - accuracy: 0.6571 - val_loss: 1.3980 - val_accuracy: 0.5348\n",
      "Epoch 9/100\n",
      "50000/50000 [==============================] - 17s 340us/step - loss: 0.8935 - accuracy: 0.6837 - val_loss: 1.4113 - val_accuracy: 0.5292\n",
      "Epoch 10/100\n",
      "50000/50000 [==============================] - 13s 251us/step - loss: 0.8214 - accuracy: 0.7068 - val_loss: 1.4596 - val_accuracy: 0.5269\n",
      "Epoch 11/100\n",
      "50000/50000 [==============================] - 6s 129us/step - loss: 0.7616 - accuracy: 0.7286 - val_loss: 1.5036 - val_accuracy: 0.5360\n",
      "Epoch 12/100\n",
      "50000/50000 [==============================] - 13s 257us/step - loss: 0.6943 - accuracy: 0.7545 - val_loss: 1.5687 - val_accuracy: 0.5266\n",
      "Epoch 13/100\n",
      "50000/50000 [==============================] - 13s 251us/step - loss: 0.6306 - accuracy: 0.7761 - val_loss: 1.7008 - val_accuracy: 0.5348\n",
      "Epoch 14/100\n",
      "50000/50000 [==============================] - 6s 123us/step - loss: 0.5923 - accuracy: 0.7866 - val_loss: 1.7415 - val_accuracy: 0.5326\n",
      "Epoch 15/100\n",
      "50000/50000 [==============================] - 11s 212us/step - loss: 0.5397 - accuracy: 0.8092 - val_loss: 1.8423 - val_accuracy: 0.5290\n",
      "Epoch 16/100\n",
      "50000/50000 [==============================] - 6s 129us/step - loss: 0.4898 - accuracy: 0.8278 - val_loss: 1.9192 - val_accuracy: 0.5260\n",
      "Epoch 17/100\n",
      "50000/50000 [==============================] - 12s 246us/step - loss: 0.4436 - accuracy: 0.8431 - val_loss: 1.9504 - val_accuracy: 0.5290\n",
      "Epoch 18/100\n",
      "50000/50000 [==============================] - 12s 243us/step - loss: 0.4062 - accuracy: 0.8580 - val_loss: 2.0116 - val_accuracy: 0.5334\n",
      "Epoch 19/100\n",
      "50000/50000 [==============================] - 8s 161us/step - loss: 0.3714 - accuracy: 0.8697 - val_loss: 2.1983 - val_accuracy: 0.5351\n",
      "Epoch 20/100\n",
      "50000/50000 [==============================] - 12s 236us/step - loss: 0.3236 - accuracy: 0.8874 - val_loss: 2.2604 - val_accuracy: 0.5339\n",
      "Epoch 21/100\n",
      "50000/50000 [==============================] - 11s 220us/step - loss: 0.3314 - accuracy: 0.8847 - val_loss: 2.3557 - val_accuracy: 0.5307\n",
      "Epoch 22/100\n",
      "50000/50000 [==============================] - 6s 122us/step - loss: 0.2984 - accuracy: 0.8950 - val_loss: 2.5152 - val_accuracy: 0.5247\n",
      "Epoch 23/100\n",
      "50000/50000 [==============================] - 11s 220us/step - loss: 0.2802 - accuracy: 0.9034 - val_loss: 2.5473 - val_accuracy: 0.5261\n",
      "Epoch 24/100\n",
      "50000/50000 [==============================] - 16s 317us/step - loss: 0.2719 - accuracy: 0.9064 - val_loss: 2.5574 - val_accuracy: 0.5245\n",
      "Epoch 25/100\n",
      "50000/50000 [==============================] - 7s 143us/step - loss: 0.2544 - accuracy: 0.9111 - val_loss: 2.6769 - val_accuracy: 0.5238\n",
      "Epoch 26/100\n",
      "50000/50000 [==============================] - 11s 222us/step - loss: 0.2305 - accuracy: 0.9202 - val_loss: 2.8056 - val_accuracy: 0.5213\n",
      "Epoch 27/100\n",
      "50000/50000 [==============================] - 10s 201us/step - loss: 0.2154 - accuracy: 0.9255 - val_loss: 2.8676 - val_accuracy: 0.5266\n",
      "Epoch 28/100\n",
      "50000/50000 [==============================] - 25s 507us/step - loss: 0.2169 - accuracy: 0.9257 - val_loss: 3.0619 - val_accuracy: 0.5234\n",
      "Epoch 29/100\n",
      "50000/50000 [==============================] - 13s 265us/step - loss: 0.2162 - accuracy: 0.9256 - val_loss: 2.8974 - val_accuracy: 0.5311\n",
      "Epoch 30/100\n",
      "50000/50000 [==============================] - 13s 260us/step - loss: 0.1873 - accuracy: 0.9354 - val_loss: 3.0106 - val_accuracy: 0.5295\n",
      "Epoch 31/100\n",
      "50000/50000 [==============================] - 7s 145us/step - loss: 0.2040 - accuracy: 0.9296 - val_loss: 3.1228 - val_accuracy: 0.5286\n",
      "Epoch 32/100\n",
      "50000/50000 [==============================] - 11s 229us/step - loss: 0.1766 - accuracy: 0.9385 - val_loss: 3.1567 - val_accuracy: 0.5274\n",
      "Epoch 33/100\n",
      "50000/50000 [==============================] - 10s 195us/step - loss: 0.1763 - accuracy: 0.9398 - val_loss: 3.1026 - val_accuracy: 0.5280\n",
      "Epoch 34/100\n",
      "50000/50000 [==============================] - 8s 162us/step - loss: 0.1673 - accuracy: 0.9432 - val_loss: 3.3243 - val_accuracy: 0.5224\n",
      "Epoch 35/100\n",
      "50000/50000 [==============================] - 11s 219us/step - loss: 0.1631 - accuracy: 0.9437 - val_loss: 3.2637 - val_accuracy: 0.5257\n",
      "Epoch 36/100\n",
      "50000/50000 [==============================] - 7s 146us/step - loss: 0.1612 - accuracy: 0.9446 - val_loss: 3.3549 - val_accuracy: 0.5311\n",
      "Epoch 37/100\n",
      "50000/50000 [==============================] - 11s 228us/step - loss: 0.1729 - accuracy: 0.9405 - val_loss: 3.3356 - val_accuracy: 0.5317\n",
      "Epoch 38/100\n",
      "50000/50000 [==============================] - 10s 193us/step - loss: 0.1382 - accuracy: 0.9522 - val_loss: 3.5261 - val_accuracy: 0.5301\n",
      "Epoch 39/100\n",
      "50000/50000 [==============================] - 8s 169us/step - loss: 0.1468 - accuracy: 0.9501 - val_loss: 3.6930 - val_accuracy: 0.5233\n",
      "Epoch 40/100\n",
      "50000/50000 [==============================] - 12s 234us/step - loss: 0.1538 - accuracy: 0.9467 - val_loss: 3.5178 - val_accuracy: 0.5271\n",
      "Epoch 41/100\n",
      "50000/50000 [==============================] - 7s 141us/step - loss: 0.1245 - accuracy: 0.9586 - val_loss: 3.7019 - val_accuracy: 0.5282\n",
      "Epoch 42/100\n",
      "50000/50000 [==============================] - 11s 221us/step - loss: 0.1428 - accuracy: 0.9524 - val_loss: 3.6170 - val_accuracy: 0.5233\n",
      "Epoch 43/100\n",
      "50000/50000 [==============================] - 10s 192us/step - loss: 0.1449 - accuracy: 0.9510 - val_loss: 3.6937 - val_accuracy: 0.5247\n",
      "Epoch 44/100\n",
      "50000/50000 [==============================] - 9s 172us/step - loss: 0.1176 - accuracy: 0.9608 - val_loss: 3.6369 - val_accuracy: 0.5296\n",
      "Epoch 45/100\n",
      "50000/50000 [==============================] - 11s 222us/step - loss: 0.1328 - accuracy: 0.9553 - val_loss: 3.7859 - val_accuracy: 0.5305\n",
      "Epoch 46/100\n",
      "50000/50000 [==============================] - 7s 138us/step - loss: 0.1184 - accuracy: 0.9596 - val_loss: 3.8780 - val_accuracy: 0.5280\n",
      "Epoch 47/100\n",
      "50000/50000 [==============================] - 11s 228us/step - loss: 0.1292 - accuracy: 0.9563 - val_loss: 3.8674 - val_accuracy: 0.5236\n",
      "Epoch 48/100\n",
      "50000/50000 [==============================] - 12s 249us/step - loss: 0.1246 - accuracy: 0.9589 - val_loss: 3.9436 - val_accuracy: 0.5188\n",
      "Epoch 49/100\n",
      "50000/50000 [==============================] - 7s 147us/step - loss: 0.1284 - accuracy: 0.9576 - val_loss: 3.8515 - val_accuracy: 0.5313\n",
      "Epoch 50/100\n",
      "50000/50000 [==============================] - 13s 270us/step - loss: 0.1347 - accuracy: 0.9555 - val_loss: 3.9529 - val_accuracy: 0.5248\n",
      "Epoch 51/100\n",
      "50000/50000 [==============================] - 18s 353us/step - loss: 0.1117 - accuracy: 0.9630 - val_loss: 3.9579 - val_accuracy: 0.5298\n",
      "Epoch 52/100\n",
      "50000/50000 [==============================] - 12s 243us/step - loss: 0.1182 - accuracy: 0.9610 - val_loss: 3.8316 - val_accuracy: 0.5286\n",
      "Epoch 53/100\n",
      "50000/50000 [==============================] - 12s 241us/step - loss: 0.1025 - accuracy: 0.9657 - val_loss: 3.9963 - val_accuracy: 0.5245\n",
      "Epoch 54/100\n",
      "50000/50000 [==============================] - 10s 209us/step - loss: 0.0997 - accuracy: 0.9659 - val_loss: 4.0504 - val_accuracy: 0.5299\n",
      "Epoch 55/100\n",
      "50000/50000 [==============================] - 14s 276us/step - loss: 0.1037 - accuracy: 0.9655 - val_loss: 4.1088 - val_accuracy: 0.5253\n",
      "Epoch 56/100\n",
      "50000/50000 [==============================] - 15s 294us/step - loss: 0.0858 - accuracy: 0.9713 - val_loss: 4.1122 - val_accuracy: 0.5328\n",
      "Epoch 57/100\n",
      "50000/50000 [==============================] - 13s 257us/step - loss: 0.1210 - accuracy: 0.9608 - val_loss: 4.0535 - val_accuracy: 0.5264\n",
      "Epoch 58/100\n",
      "50000/50000 [==============================] - 11s 218us/step - loss: 0.1123 - accuracy: 0.9629 - val_loss: 4.0618 - val_accuracy: 0.5283\n",
      "Epoch 59/100\n",
      "50000/50000 [==============================] - 10s 200us/step - loss: 0.1015 - accuracy: 0.9674 - val_loss: 4.0122 - val_accuracy: 0.5273\n",
      "Epoch 60/100\n",
      "50000/50000 [==============================] - 13s 262us/step - loss: 0.0844 - accuracy: 0.9717 - val_loss: 4.1941 - val_accuracy: 0.5292\n",
      "Epoch 61/100\n",
      "50000/50000 [==============================] - 13s 259us/step - loss: 0.0935 - accuracy: 0.9688 - val_loss: 4.1485 - val_accuracy: 0.5252\n",
      "Epoch 62/100\n",
      "50000/50000 [==============================] - 7s 148us/step - loss: 0.1184 - accuracy: 0.9612 - val_loss: 4.0942 - val_accuracy: 0.5290\n",
      "Epoch 63/100\n",
      "50000/50000 [==============================] - 12s 236us/step - loss: 0.0858 - accuracy: 0.9716 - val_loss: 4.1496 - val_accuracy: 0.5303\n",
      "Epoch 64/100\n",
      "50000/50000 [==============================] - 12s 242us/step - loss: 0.1072 - accuracy: 0.9655 - val_loss: 4.0545 - val_accuracy: 0.5272\n",
      "Epoch 65/100\n",
      "50000/50000 [==============================] - 11s 211us/step - loss: 0.0919 - accuracy: 0.9694 - val_loss: 4.1594 - val_accuracy: 0.5323\n",
      "Epoch 66/100\n",
      "50000/50000 [==============================] - 16s 326us/step - loss: 0.0813 - accuracy: 0.9735 - val_loss: 4.1725 - val_accuracy: 0.5265\n",
      "Epoch 67/100\n",
      "50000/50000 [==============================] - 13s 266us/step - loss: 0.1080 - accuracy: 0.9641 - val_loss: 4.2431 - val_accuracy: 0.5272\n",
      "Epoch 68/100\n",
      "50000/50000 [==============================] - 13s 259us/step - loss: 0.1039 - accuracy: 0.9665 - val_loss: 4.1641 - val_accuracy: 0.5255\n",
      "Epoch 69/100\n",
      "50000/50000 [==============================] - 13s 255us/step - loss: 0.0884 - accuracy: 0.9703 - val_loss: 4.3506 - val_accuracy: 0.5320\n",
      "Epoch 70/100\n",
      "50000/50000 [==============================] - 7s 147us/step - loss: 0.0776 - accuracy: 0.9745 - val_loss: 4.3914 - val_accuracy: 0.5196\n",
      "Epoch 71/100\n",
      "50000/50000 [==============================] - 12s 246us/step - loss: 0.0920 - accuracy: 0.9697 - val_loss: 4.5312 - val_accuracy: 0.5295\n",
      "Epoch 72/100\n",
      "50000/50000 [==============================] - 12s 238us/step - loss: 0.0892 - accuracy: 0.9715 - val_loss: 4.3911 - val_accuracy: 0.5338\n",
      "Epoch 73/100\n",
      "50000/50000 [==============================] - 31s 623us/step - loss: 0.0843 - accuracy: 0.9725 - val_loss: 4.3960 - val_accuracy: 0.5324\n",
      "Epoch 74/100\n",
      "50000/50000 [==============================] - 8s 153us/step - loss: 0.0794 - accuracy: 0.9734 - val_loss: 4.4767 - val_accuracy: 0.5303\n",
      "Epoch 75/100\n",
      "50000/50000 [==============================] - 15s 308us/step - loss: 0.0704 - accuracy: 0.9763 - val_loss: 4.5333 - val_accuracy: 0.5374\n",
      "Epoch 76/100\n",
      "50000/50000 [==============================] - 25s 495us/step - loss: 0.1174 - accuracy: 0.9625 - val_loss: 4.0946 - val_accuracy: 0.5162\n",
      "Epoch 77/100\n",
      "50000/50000 [==============================] - 20s 406us/step - loss: 0.0799 - accuracy: 0.9744 - val_loss: 4.4324 - val_accuracy: 0.5291\n",
      "Epoch 78/100\n",
      "50000/50000 [==============================] - 25s 505us/step - loss: 0.0705 - accuracy: 0.9766 - val_loss: 4.5630 - val_accuracy: 0.5324\n",
      "Epoch 79/100\n",
      "50000/50000 [==============================] - 10s 196us/step - loss: 0.0722 - accuracy: 0.9760 - val_loss: 4.2099 - val_accuracy: 0.5320\n",
      "Epoch 80/100\n",
      "50000/50000 [==============================] - 13s 259us/step - loss: 0.0675 - accuracy: 0.9783 - val_loss: 4.5979 - val_accuracy: 0.5280\n",
      "Epoch 81/100\n",
      "50000/50000 [==============================] - 13s 257us/step - loss: 0.0686 - accuracy: 0.9780 - val_loss: 4.6031 - val_accuracy: 0.5312\n",
      "Epoch 82/100\n",
      "50000/50000 [==============================] - 8s 164us/step - loss: 0.0717 - accuracy: 0.9775 - val_loss: 4.5494 - val_accuracy: 0.5327\n",
      "Epoch 83/100\n",
      "50000/50000 [==============================] - 13s 256us/step - loss: 0.0986 - accuracy: 0.9679 - val_loss: 4.5217 - val_accuracy: 0.5323\n",
      "Epoch 84/100\n",
      "50000/50000 [==============================] - 13s 251us/step - loss: 0.0587 - accuracy: 0.9819 - val_loss: 4.6294 - val_accuracy: 0.5287\n",
      "Epoch 85/100\n",
      "50000/50000 [==============================] - 7s 133us/step - loss: 0.0946 - accuracy: 0.9699 - val_loss: 4.4632 - val_accuracy: 0.5287\n",
      "Epoch 86/100\n",
      "50000/50000 [==============================] - 12s 238us/step - loss: 0.0683 - accuracy: 0.9786 - val_loss: 4.7008 - val_accuracy: 0.5265\n",
      "Epoch 87/100\n",
      "50000/50000 [==============================] - 13s 268us/step - loss: 0.0965 - accuracy: 0.9697 - val_loss: 4.3674 - val_accuracy: 0.5306\n",
      "Epoch 88/100\n",
      "50000/50000 [==============================] - 13s 265us/step - loss: 0.0728 - accuracy: 0.9773 - val_loss: 4.5415 - val_accuracy: 0.5348\n",
      "Epoch 89/100\n",
      "50000/50000 [==============================] - 7s 143us/step - loss: 0.0799 - accuracy: 0.9748 - val_loss: 4.5500 - val_accuracy: 0.5211\n",
      "Epoch 90/100\n",
      "50000/50000 [==============================] - 12s 241us/step - loss: 0.0546 - accuracy: 0.9821 - val_loss: 4.5909 - val_accuracy: 0.5312\n",
      "Epoch 91/100\n",
      "50000/50000 [==============================] - 14s 274us/step - loss: 0.0443 - accuracy: 0.9858 - val_loss: 4.9361 - val_accuracy: 0.5330\n",
      "Epoch 92/100\n",
      "50000/50000 [==============================] - 8s 154us/step - loss: 0.1009 - accuracy: 0.9692 - val_loss: 4.4118 - val_accuracy: 0.5223\n",
      "Epoch 93/100\n",
      "50000/50000 [==============================] - 12s 247us/step - loss: 0.0821 - accuracy: 0.9737 - val_loss: 4.5828 - val_accuracy: 0.5267\n",
      "Epoch 94/100\n",
      "50000/50000 [==============================] - 12s 248us/step - loss: 0.0604 - accuracy: 0.9804 - val_loss: 4.4893 - val_accuracy: 0.5279\n",
      "Epoch 95/100\n",
      "50000/50000 [==============================] - 7s 133us/step - loss: 0.0451 - accuracy: 0.9851 - val_loss: 4.7420 - val_accuracy: 0.5284\n",
      "Epoch 96/100\n",
      "50000/50000 [==============================] - 13s 263us/step - loss: 0.0481 - accuracy: 0.9842 - val_loss: 4.8518 - val_accuracy: 0.5230\n",
      "Epoch 97/100\n",
      "50000/50000 [==============================] - 12s 244us/step - loss: 0.1044 - accuracy: 0.9683 - val_loss: 4.4489 - val_accuracy: 0.5240\n",
      "Epoch 98/100\n",
      "50000/50000 [==============================] - 16s 316us/step - loss: 0.0563 - accuracy: 0.9822 - val_loss: 4.6285 - val_accuracy: 0.5319\n",
      "Epoch 99/100\n",
      "50000/50000 [==============================] - 7s 132us/step - loss: 0.0694 - accuracy: 0.9773 - val_loss: 4.7078 - val_accuracy: 0.5355\n",
      "Epoch 100/100\n",
      "50000/50000 [==============================] - 12s 241us/step - loss: 0.0671 - accuracy: 0.9780 - val_loss: 4.7724 - val_accuracy: 0.5312\n"
     ]
    },
    {
     "data": {
      "text/plain": [
       "<keras.callbacks.callbacks.History at 0x1d9e7a88>"
      ]
     },
     "execution_count": 8,
     "metadata": {},
     "output_type": "execute_result"
    }
   ],
   "source": [
    "model.fit(x_train, y_train, \n",
    "          epochs=EPOCHS, \n",
    "          batch_size=BATCH_SIZE, \n",
    "          validation_data=(x_test, y_test), \n",
    "          shuffle=True)"
   ]
  },
  {
   "cell_type": "code",
   "execution_count": 10,
   "metadata": {},
   "outputs": [
    {
     "data": {
      "image/png": "[encoded data removed]",
      "text/plain": [
       "<Figure size 432x288 with 1 Axes>"
      ]
     },
     "metadata": {
      "needs_background": "light"
     },
     "output_type": "display_data"
    },
    {
     "data": {
      "image/png": "[encoded data removed]",
      "text/plain": [
       "<Figure size 432x288 with 1 Axes>"
      ]
     },
     "metadata": {
      "needs_background": "light"
     },
     "output_type": "display_data"
    }
   ],
   "source": [
    "import matplotlib.pyplot as plt\n",
    "%matplotlib inline\n",
    "\n",
    "train_loss = model.history.history[\"loss\"]\n",
    "valid_loss = model.history.history[\"val_loss\"]\n",
    "\n",
    "train_acc = model.history.history[\"accuracy\"]\n",
    "valid_acc = model.history.history[\"val_accuracy\"]\n",
    "\n",
    "plt.plot(range(len(train_loss)), train_loss, label=\"train loss\")\n",
    "plt.plot(range(len(valid_loss)), valid_loss, label=\"valid loss\")\n",
    "plt.legend()\n",
    "plt.title(\"Loss\")\n",
    "plt.show()\n",
    "\n",
    "plt.plot(range(len(train_acc)), train_acc, label=\"train accuracy\")\n",
    "plt.plot(range(len(valid_acc)), valid_acc, label=\"valid accuracy\")\n",
    "plt.legend()\n",
    "plt.title(\"Accuracy\")\n",
    "plt.show()"
   ]
  },
  {
   "cell_type": "code",
   "execution_count": null,
   "metadata": {},
   "outputs": [],
   "source": []
  }
 ],
 "metadata": {
  "kernelspec": {
   "display_name": "Python 3",
   "language": "python",
   "name": "python3"
  },
  "language_info": {
   "codemirror_mode": {
    "name": "ipython",
    "version": 3
   },
   "file_extension": ".py",
   "mimetype": "text/x-python",
   "name": "python",
   "nbconvert_exporter": "python",
   "pygments_lexer": "ipython3",
   "version": "3.7.4"
  }
 },
 "nbformat": 4,
 "nbformat_minor": 2
}
