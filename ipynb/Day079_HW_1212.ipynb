{
 "cells": [
  {
   "cell_type": "markdown",
   "metadata": {},
   "source": [
    "## Work\n",
    "1. 請比較 SGD optimizer 不同的 momentum 及使用 nesterov 與否的表現"
   ]
  },
  {
   "cell_type": "code",
   "execution_count": 1,
   "metadata": {},
   "outputs": [
    {
     "name": "stderr",
     "output_type": "stream",
     "text": [
      "Using TensorFlow backend.\n"
     ]
    }
   ],
   "source": [
    "import os\n",
    "import keras\n",
    "\n",
    "# 本作業可以不需使用 GPU, 將 GPU 設定為 \"無\" (若想使用可自行開啟)\n",
    "os.environ[\"CUDA_VISIBLE_DEVICES\"] = \"\""
   ]
  },
  {
   "cell_type": "code",
   "execution_count": 2,
   "metadata": {},
   "outputs": [],
   "source": [
    "train, test = keras.datasets.cifar10.load_data()"
   ]
  },
  {
   "cell_type": "code",
   "execution_count": 3,
   "metadata": {},
   "outputs": [],
   "source": [
    "## 資料前處理\n",
    "def preproc_x(x, flatten=True):\n",
    "    x = x / 255.\n",
    "    if flatten:\n",
    "        x = x.reshape((len(x), -1))\n",
    "    return x\n",
    "\n",
    "def preproc_y(y, num_classes=10):\n",
    "    if y.shape[-1] == 1:\n",
    "        y = keras.utils.to_categorical(y, num_classes)\n",
    "    return y    "
   ]
  },
  {
   "cell_type": "code",
   "execution_count": 4,
   "metadata": {},
   "outputs": [],
   "source": [
    "x_train, y_train = train\n",
    "x_test, y_test = test\n",
    "\n",
    "# 資料前處理 - X 標準化\n",
    "x_train = preproc_x(x_train)\n",
    "x_test = preproc_x(x_test)\n",
    "\n",
    "# 資料前處理 -Y 轉成 onehot\n",
    "y_train = preproc_y(y_train)\n",
    "y_test = preproc_y(y_test)"
   ]
  },
  {
   "cell_type": "code",
   "execution_count": 5,
   "metadata": {},
   "outputs": [],
   "source": [
    "def build_mlp(input_shape, output_units=10, num_neurons=[512, 256, 128]):\n",
    "    input_layer = keras.layers.Input(input_shape)\n",
    "    \n",
    "    for i, n_units in enumerate(num_neurons):\n",
    "        if i == 0:\n",
    "            x = keras.layers.Dense(units=n_units, activation=\"relu\", name=\"hidden_layer\"+str(i+1))(input_layer)\n",
    "        else:\n",
    "            x = keras.layers.Dense(units=n_units, activation=\"relu\", name=\"hidden_layer\"+str(i+1))(x)\n",
    "    \n",
    "    out = keras.layers.Dense(units=output_units, activation=\"softmax\", name=\"output\")(x)\n",
    "    \n",
    "    model = keras.models.Model(inputs=[input_layer], outputs=[out])\n",
    "    return model"
   ]
  },
  {
   "cell_type": "code",
   "execution_count": 6,
   "metadata": {},
   "outputs": [],
   "source": [
    "\"\"\"Code Here\n",
    "設定超參數\n",
    "\"\"\"\n",
    "LEARNING_RATE = 0.001\n",
    "EPOCHS = 30\n",
    "BATCH_SIZE = 512\n",
    "MOMENTUM = [0.5, 0.9, 2]"
   ]
  },
  {
   "cell_type": "code",
   "execution_count": 7,
   "metadata": {
    "scrolled": true
   },
   "outputs": [
    {
     "name": "stdout",
     "output_type": "stream",
     "text": [
      "Experiment with MOMENTUM = 0.5\n",
      "Model: \"model_1\"\n",
      "_________________________________________________________________\n",
      "Layer (type)                 Output Shape              Param #   \n",
      "=================================================================\n",
      "input_1 (InputLayer)         (None, 3072)              0         \n",
      "_________________________________________________________________\n",
      "hidden_layer1 (Dense)        (None, 512)               1573376   \n",
      "_________________________________________________________________\n",
      "hidden_layer2 (Dense)        (None, 256)               131328    \n",
      "_________________________________________________________________\n",
      "hidden_layer3 (Dense)        (None, 128)               32896     \n",
      "_________________________________________________________________\n",
      "output (Dense)               (None, 10)                1290      \n",
      "=================================================================\n",
      "Total params: 1,738,890\n",
      "Trainable params: 1,738,890\n",
      "Non-trainable params: 0\n",
      "_________________________________________________________________\n",
      "Train on 50000 samples, validate on 10000 samples\n",
      "Epoch 1/30\n",
      "50000/50000 [==============================] - 5s 95us/step - loss: 2.2598 - accuracy: 0.1663 - val_loss: 2.1987 - val_accuracy: 0.2050\n",
      "Epoch 2/30\n",
      "50000/50000 [==============================] - 10s 206us/step - loss: 2.1636 - accuracy: 0.2231 - val_loss: 2.1357 - val_accuracy: 0.2355\n",
      "Epoch 3/30\n",
      "50000/50000 [==============================] - 5s 101us/step - loss: 2.1088 - accuracy: 0.2463 - val_loss: 2.0888 - val_accuracy: 0.2552\n",
      "Epoch 4/30\n",
      "50000/50000 [==============================] - 8s 162us/step - loss: 2.0652 - accuracy: 0.2644 - val_loss: 2.0493 - val_accuracy: 0.2683\n",
      "Epoch 5/30\n",
      "50000/50000 [==============================] - 12s 232us/step - loss: 2.0290 - accuracy: 0.2794 - val_loss: 2.0162 - val_accuracy: 0.2841\n",
      "Epoch 6/30\n",
      "50000/50000 [==============================] - 9s 181us/step - loss: 1.9977 - accuracy: 0.2938 - val_loss: 1.9873 - val_accuracy: 0.2943\n",
      "Epoch 7/30\n",
      "50000/50000 [==============================] - 5s 94us/step - loss: 1.9701 - accuracy: 0.3056 - val_loss: 1.9620 - val_accuracy: 0.3060\n",
      "Epoch 8/30\n",
      "50000/50000 [==============================] - 8s 166us/step - loss: 1.9465 - accuracy: 0.3147 - val_loss: 1.9408 - val_accuracy: 0.3141\n",
      "Epoch 9/30\n",
      "50000/50000 [==============================] - 7s 131us/step - loss: 1.9267 - accuracy: 0.3237 - val_loss: 1.9225 - val_accuracy: 0.3230\n",
      "Epoch 10/30\n",
      "50000/50000 [==============================] - 11s 213us/step - loss: 1.9096 - accuracy: 0.3310 - val_loss: 1.9066 - val_accuracy: 0.3281\n",
      "Epoch 11/30\n",
      "50000/50000 [==============================] - 14s 279us/step - loss: 1.8946 - accuracy: 0.3352 - val_loss: 1.8927 - val_accuracy: 0.3327\n",
      "Epoch 12/30\n",
      "50000/50000 [==============================] - 9s 177us/step - loss: 1.8815 - accuracy: 0.3412 - val_loss: 1.8806 - val_accuracy: 0.3378\n",
      "Epoch 13/30\n",
      "50000/50000 [==============================] - 10s 194us/step - loss: 1.8699 - accuracy: 0.3459 - val_loss: 1.8690 - val_accuracy: 0.3451\n",
      "Epoch 14/30\n",
      "50000/50000 [==============================] - 6s 115us/step - loss: 1.8592 - accuracy: 0.3489 - val_loss: 1.8587 - val_accuracy: 0.3510\n",
      "Epoch 15/30\n",
      "50000/50000 [==============================] - 10s 205us/step - loss: 1.8495 - accuracy: 0.3529 - val_loss: 1.8498 - val_accuracy: 0.3512\n",
      "Epoch 16/30\n",
      "50000/50000 [==============================] - 6s 124us/step - loss: 1.8404 - accuracy: 0.3570 - val_loss: 1.8416 - val_accuracy: 0.3547\n",
      "Epoch 17/30\n",
      "50000/50000 [==============================] - 10s 195us/step - loss: 1.8322 - accuracy: 0.3587 - val_loss: 1.8340 - val_accuracy: 0.3569\n",
      "Epoch 18/30\n",
      "50000/50000 [==============================] - 6s 125us/step - loss: 1.8240 - accuracy: 0.3628 - val_loss: 1.8258 - val_accuracy: 0.3619\n",
      "Epoch 19/30\n",
      "50000/50000 [==============================] - 9s 184us/step - loss: 1.8168 - accuracy: 0.3641 - val_loss: 1.8186 - val_accuracy: 0.3672\n",
      "Epoch 20/30\n",
      "50000/50000 [==============================] - 6s 112us/step - loss: 1.8098 - accuracy: 0.3662 - val_loss: 1.8107 - val_accuracy: 0.3675\n",
      "Epoch 21/30\n",
      "50000/50000 [==============================] - 10s 199us/step - loss: 1.8031 - accuracy: 0.3695 - val_loss: 1.8040 - val_accuracy: 0.3697\n",
      "Epoch 22/30\n",
      "50000/50000 [==============================] - 5s 98us/step - loss: 1.7968 - accuracy: 0.3721 - val_loss: 1.7985 - val_accuracy: 0.3697\n",
      "Epoch 23/30\n",
      "50000/50000 [==============================] - 5s 93us/step - loss: 1.7908 - accuracy: 0.3733 - val_loss: 1.7916 - val_accuracy: 0.3762\n",
      "Epoch 24/30\n",
      "50000/50000 [==============================] - 9s 178us/step - loss: 1.7846 - accuracy: 0.3757 - val_loss: 1.7896 - val_accuracy: 0.3747\n",
      "Epoch 25/30\n",
      "50000/50000 [==============================] - 6s 111us/step - loss: 1.7790 - accuracy: 0.3786 - val_loss: 1.7804 - val_accuracy: 0.3795\n",
      "Epoch 26/30\n",
      "50000/50000 [==============================] - 9s 175us/step - loss: 1.7735 - accuracy: 0.3798 - val_loss: 1.7744 - val_accuracy: 0.3805\n",
      "Epoch 27/30\n",
      "50000/50000 [==============================] - 6s 115us/step - loss: 1.7681 - accuracy: 0.3825 - val_loss: 1.7697 - val_accuracy: 0.3817\n",
      "Epoch 28/30\n",
      "50000/50000 [==============================] - 10s 199us/step - loss: 1.7629 - accuracy: 0.3832 - val_loss: 1.7648 - val_accuracy: 0.3825\n",
      "Epoch 29/30\n",
      "50000/50000 [==============================] - 5s 101us/step - loss: 1.7578 - accuracy: 0.3852 - val_loss: 1.7594 - val_accuracy: 0.3854\n",
      "Epoch 30/30\n",
      "50000/50000 [==============================] - 7s 144us/step - loss: 1.7528 - accuracy: 0.3880 - val_loss: 1.7537 - val_accuracy: 0.3897\n"
     ]
    },
    {
     "ename": "KeyError",
     "evalue": "'acc'",
     "output_type": "error",
     "traceback": [
      "\u001b[1;31m---------------------------------------------------------------------------\u001b[0m",
      "\u001b[1;31mKeyError\u001b[0m                                  Traceback (most recent call last)",
      "\u001b[1;32m<ipython-input-7-0eb680a9cb6c>\u001b[0m in \u001b[0;36m<module>\u001b[1;34m\u001b[0m\n\u001b[0;32m     20\u001b[0m     \u001b[0mtrain_loss\u001b[0m \u001b[1;33m=\u001b[0m \u001b[0mmodel\u001b[0m\u001b[1;33m.\u001b[0m\u001b[0mhistory\u001b[0m\u001b[1;33m.\u001b[0m\u001b[0mhistory\u001b[0m\u001b[1;33m[\u001b[0m\u001b[1;34m\"loss\"\u001b[0m\u001b[1;33m]\u001b[0m\u001b[1;33m\u001b[0m\u001b[1;33m\u001b[0m\u001b[0m\n\u001b[0;32m     21\u001b[0m     \u001b[0mvalid_loss\u001b[0m \u001b[1;33m=\u001b[0m \u001b[0mmodel\u001b[0m\u001b[1;33m.\u001b[0m\u001b[0mhistory\u001b[0m\u001b[1;33m.\u001b[0m\u001b[0mhistory\u001b[0m\u001b[1;33m[\u001b[0m\u001b[1;34m\"val_loss\"\u001b[0m\u001b[1;33m]\u001b[0m\u001b[1;33m\u001b[0m\u001b[1;33m\u001b[0m\u001b[0m\n\u001b[1;32m---> 22\u001b[1;33m     \u001b[0mtrain_acc\u001b[0m \u001b[1;33m=\u001b[0m \u001b[0mmodel\u001b[0m\u001b[1;33m.\u001b[0m\u001b[0mhistory\u001b[0m\u001b[1;33m.\u001b[0m\u001b[0mhistory\u001b[0m\u001b[1;33m[\u001b[0m\u001b[1;34m\"acc\"\u001b[0m\u001b[1;33m]\u001b[0m\u001b[1;33m\u001b[0m\u001b[1;33m\u001b[0m\u001b[0m\n\u001b[0m\u001b[0;32m     23\u001b[0m     \u001b[0mvalid_acc\u001b[0m \u001b[1;33m=\u001b[0m \u001b[0mmodel\u001b[0m\u001b[1;33m.\u001b[0m\u001b[0mhistory\u001b[0m\u001b[1;33m.\u001b[0m\u001b[0mhistory\u001b[0m\u001b[1;33m[\u001b[0m\u001b[1;34m\"val_acc\"\u001b[0m\u001b[1;33m]\u001b[0m\u001b[1;33m\u001b[0m\u001b[1;33m\u001b[0m\u001b[0m\n\u001b[0;32m     24\u001b[0m \u001b[1;33m\u001b[0m\u001b[0m\n",
      "\u001b[1;31mKeyError\u001b[0m: 'acc'"
     ]
    }
   ],
   "source": [
    "\"\"\"Code Here\n",
    "撰寫你的訓練流程並將結果用 dictionary 紀錄\n",
    "\"\"\"\n",
    "results = {}\n",
    "for momentum in MOMENTUM:\n",
    "    keras.backend.clear_session() # 把舊的 Graph 清掉\n",
    "    print(f\"Experiment with MOMENTUM = {momentum}\")\n",
    "    model = build_mlp(input_shape=x_train.shape[1:])\n",
    "    model.summary()\n",
    "    optimizer = keras.optimizers.SGD(lr=LEARNING_RATE, nesterov=True, momentum=momentum)\n",
    "    model.compile(loss=\"categorical_crossentropy\", metrics=[\"accuracy\"], optimizer=optimizer)\n",
    "\n",
    "    model.fit(x_train, y_train, \n",
    "              epochs=EPOCHS, \n",
    "              batch_size=BATCH_SIZE, \n",
    "              validation_data=(x_test, y_test), \n",
    "              shuffle=True)\n",
    "    \n"
   ]
  },
  {
   "cell_type": "code",
   "execution_count": 8,
   "metadata": {},
   "outputs": [],
   "source": [
    "    # Collect results\n",
    "    train_loss = model.history.history[\"loss\"]\n",
    "    valid_loss = model.history.history[\"val_loss\"]\n",
    "    train_acc = model.history.history[\"accuracy\"]\n",
    "    valid_acc = model.history.history[\"val_accuracy\"]\n",
    "    \n",
    "    exp_name_tag = f\"exp-momentum-{momentum}\"\n",
    "    results[exp_name_tag] = {'train-loss': train_loss,\n",
    "                             'valid-loss': valid_loss,\n",
    "                             'train-acc': train_acc,\n",
    "                             'valid-acc': valid_acc}"
   ]
  },
  {
   "cell_type": "code",
   "execution_count": 9,
   "metadata": {},
   "outputs": [
    {
     "data": {
      "image/png": "[encoded data removed]",
      "text/plain": [
       "<Figure size 576x432 with 1 Axes>"
      ]
     },
     "metadata": {
      "needs_background": "light"
     },
     "output_type": "display_data"
    },
    {
     "data": {
      "image/png": "[encoded data removed]",
      "text/plain": [
       "<Figure size 576x432 with 1 Axes>"
      ]
     },
     "metadata": {
      "needs_background": "light"
     },
     "output_type": "display_data"
    }
   ],
   "source": [
    "import matplotlib.pyplot as plt\n",
    "%matplotlib inline\n",
    "\"\"\"Code Here\n",
    "將結果繪出\n",
    "\"\"\"\n",
    "color_bar = [\"r\", \"g\", \"b\", \"y\", \"m\", \"k\"]\n",
    "\n",
    "plt.figure(figsize=(8, 6))\n",
    "for i, cond in enumerate(results.keys()):\n",
    "    plt.plot(range(len(results[cond]['train-loss'])),results[cond]['train-loss'], '-', label=cond, color=color_bar[i])\n",
    "    plt.plot(range(len(results[cond]['valid-loss'])),results[cond]['valid-loss'], '--', label=cond, color=color_bar[i])\n",
    "plt.title(\"Loss\")\n",
    "plt.legend()\n",
    "plt.show()\n",
    "\n",
    "plt.figure(figsize=(8, 6))\n",
    "for i, cond in enumerate(results.keys()):\n",
    "    plt.plot(range(len(results[cond]['train-acc'])),results[cond]['train-acc'], '-', label=cond, color=color_bar[i])\n",
    "    plt.plot(range(len(results[cond]['valid-acc'])),results[cond]['valid-acc'], '--', label=cond, color=color_bar[i])\n",
    "plt.title(\"Accuracy\")\n",
    "plt.legend()\n",
    "plt.show()"
   ]
  },
  {
   "cell_type": "code",
   "execution_count": null,
   "metadata": {},
   "outputs": [],
   "source": []
  }
 ],
 "metadata": {
  "kernelspec": {
   "display_name": "Python 3",
   "language": "python",
   "name": "python3"
  },
  "language_info": {
   "codemirror_mode": {
    "name": "ipython",
    "version": 3
   },
   "file_extension": ".py",
   "mimetype": "text/x-python",
   "name": "python",
   "nbconvert_exporter": "python",
   "pygments_lexer": "ipython3",
   "version": "3.7.4"
  }
 },
 "nbformat": 4,
 "nbformat_minor": 2
}
