{
 "cells": [
  {
   "cell_type": "markdown",
   "metadata": {},
   "source": [
    "## Work\n",
    "1. 請比較使用不同層數以及不同 Dropout rate 對訓練的效果\n",
    "2. 將 optimizer 改成使用 Adam 並加上適當的 dropout rate 檢視結果"
   ]
  },
  {
   "cell_type": "code",
   "execution_count": 1,
   "metadata": {},
   "outputs": [
    {
     "name": "stderr",
     "output_type": "stream",
     "text": [
      "Using TensorFlow backend.\n"
     ]
    }
   ],
   "source": [
    "import os\n",
    "import keras\n",
    "import itertools\n",
    "# Disable GPU\n",
    "os.environ[\"CUDA_VISIBLE_DEVICES\"] = \"\""
   ]
  },
  {
   "cell_type": "code",
   "execution_count": 2,
   "metadata": {},
   "outputs": [],
   "source": [
    "train, test = keras.datasets.cifar10.load_data()"
   ]
  },
  {
   "cell_type": "code",
   "execution_count": 3,
   "metadata": {},
   "outputs": [],
   "source": [
    "## 資料前處理\n",
    "def preproc_x(x, flatten=True):\n",
    "    x = x / 255.\n",
    "    if flatten:\n",
    "        x = x.reshape((len(x), -1))\n",
    "    return x\n",
    "\n",
    "def preproc_y(y, num_classes=10):\n",
    "    if y.shape[-1] == 1:\n",
    "        y = keras.utils.to_categorical(y, num_classes)\n",
    "    return y    "
   ]
  },
  {
   "cell_type": "code",
   "execution_count": 4,
   "metadata": {},
   "outputs": [],
   "source": [
    "x_train, y_train = train\n",
    "x_test, y_test = test\n",
    "\n",
    "# Preproc the inputs\n",
    "x_train = preproc_x(x_train)\n",
    "x_test = preproc_x(x_test)\n",
    "\n",
    "# Preprc the outputs\n",
    "y_train = preproc_y(y_train)\n",
    "y_test = preproc_y(y_test)"
   ]
  },
  {
   "cell_type": "code",
   "execution_count": 8,
   "metadata": {},
   "outputs": [],
   "source": [
    "from keras.layers import Dropout\n",
    "def build_mlp(input_shape, output_units=10, num_neurons=[512, 256, 128], drp_ratio=0.3):\n",
    "    input_layer = keras.layers.Input(input_shape)\n",
    "    \n",
    "    for i, n_units in enumerate(num_neurons):\n",
    "        if i == 0:\n",
    "            x = keras.layers.Dense(units=n_units, \n",
    "                                   activation=\"relu\", \n",
    "                                   name=\"hidden_layer\"+str(i+1))(input_layer)\n",
    "            x = Dropout(drp_ratio)(x)\n",
    "        else:\n",
    "            x = keras.layers.Dense(units=n_units, \n",
    "                                   activation=\"relu\", \n",
    "                                   name=\"hidden_layer\"+str(i+1))(x)\n",
    "            x = Dropout(drp_ratio)(x)\n",
    "    \n",
    "    out = keras.layers.Dense(units=output_units, activation=\"softmax\", name=\"output\")(x)\n",
    "    \n",
    "    model = keras.models.Model(inputs=[input_layer], outputs=[out])\n",
    "    return model"
   ]
  },
  {
   "cell_type": "code",
   "execution_count": 9,
   "metadata": {},
   "outputs": [],
   "source": [
    "\"\"\"Code Here\n",
    "設定超參數\n",
    "\"\"\"\n",
    "LEARNING_RATE = 1e-3\n",
    "EPOCHS = 50\n",
    "BATCH_SIZE = 256\n",
    "MOMENTUM = 0.95\n",
    "Dropout_EXP = 0.4"
   ]
  },
  {
   "cell_type": "code",
   "execution_count": 10,
   "metadata": {
    "scrolled": true
   },
   "outputs": [
    {
     "name": "stdout",
     "output_type": "stream",
     "text": [
      "Model: \"model_1\"\n",
      "_________________________________________________________________\n",
      "Layer (type)                 Output Shape              Param #   \n",
      "=================================================================\n",
      "input_2 (InputLayer)         (None, 3072)              0         \n",
      "_________________________________________________________________\n",
      "hidden_layer1 (Dense)        (None, 512)               1573376   \n",
      "_________________________________________________________________\n",
      "dropout_1 (Dropout)          (None, 512)               0         \n",
      "_________________________________________________________________\n",
      "hidden_layer2 (Dense)        (None, 256)               131328    \n",
      "_________________________________________________________________\n",
      "dropout_2 (Dropout)          (None, 256)               0         \n",
      "_________________________________________________________________\n",
      "hidden_layer3 (Dense)        (None, 128)               32896     \n",
      "_________________________________________________________________\n",
      "dropout_3 (Dropout)          (None, 128)               0         \n",
      "_________________________________________________________________\n",
      "output (Dense)               (None, 10)                1290      \n",
      "=================================================================\n",
      "Total params: 1,738,890\n",
      "Trainable params: 1,738,890\n",
      "Non-trainable params: 0\n",
      "_________________________________________________________________\n",
      "Train on 50000 samples, validate on 10000 samples\n",
      "Epoch 1/50\n",
      "50000/50000 [==============================] - 10s 204us/step - loss: 2.2627 - accuracy: 0.1579 - val_loss: 2.0815 - val_accuracy: 0.2812\n",
      "Epoch 2/50\n",
      "50000/50000 [==============================] - 9s 180us/step - loss: 2.0882 - accuracy: 0.2279 - val_loss: 1.9418 - val_accuracy: 0.3170\n",
      "Epoch 3/50\n",
      "50000/50000 [==============================] - 8s 155us/step - loss: 2.0015 - accuracy: 0.2648 - val_loss: 1.8794 - val_accuracy: 0.3348\n",
      "Epoch 4/50\n",
      "50000/50000 [==============================] - 7s 137us/step - loss: 1.9534 - accuracy: 0.2870 - val_loss: 1.8374 - val_accuracy: 0.3508\n",
      "Epoch 5/50\n",
      "50000/50000 [==============================] - 7s 137us/step - loss: 1.9099 - accuracy: 0.3040 - val_loss: 1.8010 - val_accuracy: 0.3644\n",
      "Epoch 6/50\n",
      "50000/50000 [==============================] - 7s 138us/step - loss: 1.8802 - accuracy: 0.3185 - val_loss: 1.7638 - val_accuracy: 0.3766\n",
      "Epoch 7/50\n",
      "50000/50000 [==============================] - 7s 138us/step - loss: 1.8570 - accuracy: 0.3264 - val_loss: 1.7471 - val_accuracy: 0.3825\n",
      "Epoch 8/50\n",
      "50000/50000 [==============================] - 7s 137us/step - loss: 1.8377 - accuracy: 0.3365 - val_loss: 1.7145 - val_accuracy: 0.3896\n",
      "Epoch 9/50\n",
      "50000/50000 [==============================] - 7s 143us/step - loss: 1.8146 - accuracy: 0.3450 - val_loss: 1.6963 - val_accuracy: 0.4048\n",
      "Epoch 10/50\n",
      "50000/50000 [==============================] - 7s 140us/step - loss: 1.7967 - accuracy: 0.3560 - val_loss: 1.6806 - val_accuracy: 0.4050\n",
      "Epoch 11/50\n",
      "50000/50000 [==============================] - 7s 145us/step - loss: 1.7796 - accuracy: 0.3619 - val_loss: 1.6619 - val_accuracy: 0.4131\n",
      "Epoch 12/50\n",
      "50000/50000 [==============================] - 7s 137us/step - loss: 1.7666 - accuracy: 0.3649 - val_loss: 1.6413 - val_accuracy: 0.4216\n",
      "Epoch 13/50\n",
      "50000/50000 [==============================] - 7s 138us/step - loss: 1.7510 - accuracy: 0.3725 - val_loss: 1.6277 - val_accuracy: 0.4245\n",
      "Epoch 14/50\n",
      "50000/50000 [==============================] - 7s 138us/step - loss: 1.7374 - accuracy: 0.3812 - val_loss: 1.6168 - val_accuracy: 0.4289\n",
      "Epoch 15/50\n",
      "50000/50000 [==============================] - 7s 139us/step - loss: 1.7227 - accuracy: 0.3840 - val_loss: 1.6065 - val_accuracy: 0.4338\n",
      "Epoch 16/50\n",
      "50000/50000 [==============================] - 7s 140us/step - loss: 1.7111 - accuracy: 0.3880 - val_loss: 1.5980 - val_accuracy: 0.4379\n",
      "Epoch 17/50\n",
      "50000/50000 [==============================] - 7s 138us/step - loss: 1.6945 - accuracy: 0.3947 - val_loss: 1.5787 - val_accuracy: 0.4430\n",
      "Epoch 18/50\n",
      "50000/50000 [==============================] - 7s 138us/step - loss: 1.6905 - accuracy: 0.3964 - val_loss: 1.5698 - val_accuracy: 0.4437\n",
      "Epoch 19/50\n",
      "50000/50000 [==============================] - 7s 141us/step - loss: 1.6799 - accuracy: 0.4032 - val_loss: 1.5566 - val_accuracy: 0.4511\n",
      "Epoch 20/50\n",
      "50000/50000 [==============================] - 7s 140us/step - loss: 1.6663 - accuracy: 0.4038 - val_loss: 1.5453 - val_accuracy: 0.4584\n",
      "Epoch 21/50\n",
      "50000/50000 [==============================] - 7s 138us/step - loss: 1.6525 - accuracy: 0.4097 - val_loss: 1.5345 - val_accuracy: 0.4551\n",
      "Epoch 22/50\n",
      "50000/50000 [==============================] - 7s 137us/step - loss: 1.6478 - accuracy: 0.4146 - val_loss: 1.5320 - val_accuracy: 0.4565\n",
      "Epoch 23/50\n",
      "50000/50000 [==============================] - 7s 143us/step - loss: 1.6375 - accuracy: 0.4145 - val_loss: 1.5138 - val_accuracy: 0.4630\n",
      "Epoch 24/50\n",
      "50000/50000 [==============================] - 7s 139us/step - loss: 1.6292 - accuracy: 0.4185 - val_loss: 1.5097 - val_accuracy: 0.4658\n",
      "Epoch 25/50\n",
      "50000/50000 [==============================] - 7s 138us/step - loss: 1.6210 - accuracy: 0.4236 - val_loss: 1.5103 - val_accuracy: 0.4639\n",
      "Epoch 26/50\n",
      "50000/50000 [==============================] - 7s 137us/step - loss: 1.6130 - accuracy: 0.4253 - val_loss: 1.4989 - val_accuracy: 0.4699\n",
      "Epoch 27/50\n",
      "50000/50000 [==============================] - 7s 137us/step - loss: 1.6032 - accuracy: 0.4269 - val_loss: 1.4970 - val_accuracy: 0.4670\n",
      "Epoch 28/50\n",
      "50000/50000 [==============================] - 7s 140us/step - loss: 1.5982 - accuracy: 0.4301 - val_loss: 1.4899 - val_accuracy: 0.4720\n",
      "Epoch 29/50\n",
      "50000/50000 [==============================] - 7s 143us/step - loss: 1.5898 - accuracy: 0.4311 - val_loss: 1.4753 - val_accuracy: 0.4781\n",
      "Epoch 30/50\n",
      "50000/50000 [==============================] - 7s 136us/step - loss: 1.5796 - accuracy: 0.4362 - val_loss: 1.4650 - val_accuracy: 0.4810\n",
      "Epoch 31/50\n",
      "50000/50000 [==============================] - 7s 140us/step - loss: 1.5732 - accuracy: 0.4387 - val_loss: 1.4750 - val_accuracy: 0.4747\n",
      "Epoch 32/50\n",
      "50000/50000 [==============================] - 7s 137us/step - loss: 1.5670 - accuracy: 0.4425 - val_loss: 1.4579 - val_accuracy: 0.4819\n",
      "Epoch 33/50\n",
      "50000/50000 [==============================] - 7s 140us/step - loss: 1.5659 - accuracy: 0.4406 - val_loss: 1.4654 - val_accuracy: 0.4838\n",
      "Epoch 34/50\n",
      "50000/50000 [==============================] - 7s 140us/step - loss: 1.5551 - accuracy: 0.4444 - val_loss: 1.4557 - val_accuracy: 0.4833\n",
      "Epoch 35/50\n",
      "50000/50000 [==============================] - 8s 154us/step - loss: 1.5527 - accuracy: 0.4438 - val_loss: 1.4426 - val_accuracy: 0.4840\n",
      "Epoch 36/50\n",
      "50000/50000 [==============================] - 11s 223us/step - loss: 1.5466 - accuracy: 0.4502 - val_loss: 1.4406 - val_accuracy: 0.4862\n",
      "Epoch 37/50\n",
      "50000/50000 [==============================] - 7s 145us/step - loss: 1.5427 - accuracy: 0.4517 - val_loss: 1.4483 - val_accuracy: 0.4840\n",
      "Epoch 38/50\n",
      "50000/50000 [==============================] - 7s 141us/step - loss: 1.5327 - accuracy: 0.4528 - val_loss: 1.4397 - val_accuracy: 0.4856\n",
      "Epoch 39/50\n",
      "50000/50000 [==============================] - 8s 153us/step - loss: 1.5285 - accuracy: 0.4541 - val_loss: 1.4345 - val_accuracy: 0.4832\n",
      "Epoch 40/50\n",
      "50000/50000 [==============================] - 7s 137us/step - loss: 1.5199 - accuracy: 0.4570 - val_loss: 1.4419 - val_accuracy: 0.4833\n",
      "Epoch 41/50\n",
      "50000/50000 [==============================] - 7s 139us/step - loss: 1.5191 - accuracy: 0.4587 - val_loss: 1.4198 - val_accuracy: 0.4917\n",
      "Epoch 42/50\n",
      "50000/50000 [==============================] - 7s 138us/step - loss: 1.5077 - accuracy: 0.4626 - val_loss: 1.4224 - val_accuracy: 0.4948\n",
      "Epoch 43/50\n",
      "50000/50000 [==============================] - 7s 138us/step - loss: 1.5034 - accuracy: 0.4643 - val_loss: 1.4183 - val_accuracy: 0.4930\n",
      "Epoch 44/50\n",
      "50000/50000 [==============================] - 7s 137us/step - loss: 1.4996 - accuracy: 0.4651 - val_loss: 1.4130 - val_accuracy: 0.4917\n",
      "Epoch 45/50\n",
      "50000/50000 [==============================] - 7s 140us/step - loss: 1.4946 - accuracy: 0.4662 - val_loss: 1.4177 - val_accuracy: 0.4934\n",
      "Epoch 46/50\n",
      "50000/50000 [==============================] - 7s 139us/step - loss: 1.4911 - accuracy: 0.4668 - val_loss: 1.4066 - val_accuracy: 0.4950\n",
      "Epoch 47/50\n",
      "50000/50000 [==============================] - 7s 140us/step - loss: 1.4820 - accuracy: 0.4691 - val_loss: 1.4007 - val_accuracy: 0.4985\n",
      "Epoch 48/50\n",
      "50000/50000 [==============================] - 7s 139us/step - loss: 1.4814 - accuracy: 0.4707 - val_loss: 1.4022 - val_accuracy: 0.4961\n",
      "Epoch 49/50\n",
      "50000/50000 [==============================] - 7s 141us/step - loss: 1.4735 - accuracy: 0.4717 - val_loss: 1.4000 - val_accuracy: 0.4959\n",
      "Epoch 50/50\n",
      "50000/50000 [==============================] - 7s 138us/step - loss: 1.4700 - accuracy: 0.4746 - val_loss: 1.3954 - val_accuracy: 0.5017\n"
     ]
    }
   ],
   "source": [
    "results = {}\n",
    "\"\"\"Code Here\n",
    "撰寫你的訓練流程並將結果用 dictionary 紀錄\n",
    "\"\"\"\n",
    "model = build_mlp(input_shape=x_train.shape[1:], drp_ratio=Dropout_EXP)\n",
    "model.summary()\n",
    "optimizer = keras.optimizers.SGD(lr=LEARNING_RATE, nesterov=True, momentum=MOMENTUM)\n",
    "model.compile(loss=\"categorical_crossentropy\", metrics=[\"accuracy\"], optimizer=optimizer)\n",
    "\n",
    "model.fit(x_train, y_train, \n",
    "          epochs=EPOCHS, \n",
    "          batch_size=BATCH_SIZE, \n",
    "          validation_data=(x_test, y_test), \n",
    "          shuffle=True)\n",
    "\n",
    "# Collect results\n",
    "train_loss = model.history.history[\"loss\"]\n",
    "valid_loss = model.history.history[\"val_loss\"]\n",
    "train_acc = model.history.history[\"accuracy\"]\n",
    "valid_acc = model.history.history[\"val_accuracy\"]"
   ]
  },
  {
   "cell_type": "code",
   "execution_count": 11,
   "metadata": {},
   "outputs": [
    {
     "data": {
      "image/png": "[encoded data removed]",
      "text/plain": [
       "<Figure size 432x288 with 1 Axes>"
      ]
     },
     "metadata": {
      "needs_background": "light"
     },
     "output_type": "display_data"
    },
    {
     "data": {
      "image/png": "[encoded data removed]",
      "text/plain": [
       "<Figure size 432x288 with 1 Axes>"
      ]
     },
     "metadata": {
      "needs_background": "light"
     },
     "output_type": "display_data"
    }
   ],
   "source": [
    "import matplotlib.pyplot as plt\n",
    "%matplotlib inline\n",
    "\"\"\"Code Here\n",
    "將結果繪出\n",
    "\"\"\"\n",
    "plt.plot(range(len(train_loss)), train_loss, label=\"train loss\")\n",
    "plt.plot(range(len(valid_loss)), valid_loss, label=\"valid loss\")\n",
    "plt.legend()\n",
    "plt.title(\"Loss\")\n",
    "plt.show()\n",
    "\n",
    "plt.plot(range(len(train_acc)), train_acc, label=\"train accuracy\")\n",
    "plt.plot(range(len(valid_acc)), valid_acc, label=\"valid accuracy\")\n",
    "plt.legend()\n",
    "plt.title(\"Accuracy\")\n",
    "plt.show()"
   ]
  },
  {
   "cell_type": "code",
   "execution_count": null,
   "metadata": {},
   "outputs": [],
   "source": []
  }
 ],
 "metadata": {
  "kernelspec": {
   "display_name": "Python 3",
   "language": "python",
   "name": "python3"
  },
  "language_info": {
   "codemirror_mode": {
    "name": "ipython",
    "version": 3
   },
   "file_extension": ".py",
   "mimetype": "text/x-python",
   "name": "python",
   "nbconvert_exporter": "python",
   "pygments_lexer": "ipython3",
   "version": "3.7.4"
  }
 },
 "nbformat": 4,
 "nbformat_minor": 2
}
